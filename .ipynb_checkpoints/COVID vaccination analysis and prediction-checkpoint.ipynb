{
 "cells": [
  {
   "cell_type": "markdown",
   "id": "4507ce2f",
   "metadata": {},
   "source": [
    "##### Intro \n",
    "##### Preprocessing start"
   ]
  },
  {
   "cell_type": "code",
   "execution_count": 2,
   "id": "c729c6a1",
   "metadata": {},
   "outputs": [],
   "source": [
    "import pandas as pd\n",
    "import numpy as np\n",
    "import matplotlib.pyplot as plt\n",
    "import seaborn as sns"
   ]
  },
  {
   "cell_type": "code",
   "execution_count": 3,
   "id": "cb0b68c5",
   "metadata": {},
   "outputs": [],
   "source": [
    "df=pd.read_csv(r\"D:\\Documents\\Notes\\Github (Projects)\\COVID-19 Vaccination analysis and prediction\\covid_vaccine_statewise.csv\")"
   ]
  },
  {
   "cell_type": "code",
   "execution_count": 4,
   "id": "16ff8242",
   "metadata": {},
   "outputs": [
    {
     "data": {
      "text/html": [
       "<div>\n",
       "<style scoped>\n",
       "    .dataframe tbody tr th:only-of-type {\n",
       "        vertical-align: middle;\n",
       "    }\n",
       "\n",
       "    .dataframe tbody tr th {\n",
       "        vertical-align: top;\n",
       "    }\n",
       "\n",
       "    .dataframe thead th {\n",
       "        text-align: right;\n",
       "    }\n",
       "</style>\n",
       "<table border=\"1\" class=\"dataframe\">\n",
       "  <thead>\n",
       "    <tr style=\"text-align: right;\">\n",
       "      <th></th>\n",
       "      <th>Updated On</th>\n",
       "      <th>State</th>\n",
       "      <th>Total Doses Administered</th>\n",
       "      <th>Total Sessions Conducted</th>\n",
       "      <th>Total Sites</th>\n",
       "      <th>First Dose Administered</th>\n",
       "      <th>Second Dose Administered</th>\n",
       "      <th>Male(Individuals Vaccinated)</th>\n",
       "      <th>Female(Individuals Vaccinated)</th>\n",
       "      <th>Transgender(Individuals Vaccinated)</th>\n",
       "      <th>Total Covaxin Administered</th>\n",
       "      <th>Total CoviShield Administered</th>\n",
       "      <th>Total Sputnik V Administered</th>\n",
       "      <th>AEFI</th>\n",
       "      <th>18-45 years (Age)</th>\n",
       "      <th>45-60 years (Age)</th>\n",
       "      <th>60+ years (Age)</th>\n",
       "      <th>Total Individuals Vaccinated</th>\n",
       "    </tr>\n",
       "  </thead>\n",
       "  <tbody>\n",
       "    <tr>\n",
       "      <th>0</th>\n",
       "      <td>16/01/2021</td>\n",
       "      <td>India</td>\n",
       "      <td>48276.0</td>\n",
       "      <td>3455.0</td>\n",
       "      <td>2957.0</td>\n",
       "      <td>48276.0</td>\n",
       "      <td>0.0</td>\n",
       "      <td>23757.0</td>\n",
       "      <td>24517.0</td>\n",
       "      <td>2.0</td>\n",
       "      <td>579.0</td>\n",
       "      <td>47697.0</td>\n",
       "      <td>NaN</td>\n",
       "      <td>NaN</td>\n",
       "      <td>NaN</td>\n",
       "      <td>NaN</td>\n",
       "      <td>NaN</td>\n",
       "      <td>48276.0</td>\n",
       "    </tr>\n",
       "    <tr>\n",
       "      <th>1</th>\n",
       "      <td>17/01/2021</td>\n",
       "      <td>India</td>\n",
       "      <td>58604.0</td>\n",
       "      <td>8532.0</td>\n",
       "      <td>4954.0</td>\n",
       "      <td>58604.0</td>\n",
       "      <td>0.0</td>\n",
       "      <td>27348.0</td>\n",
       "      <td>31252.0</td>\n",
       "      <td>4.0</td>\n",
       "      <td>635.0</td>\n",
       "      <td>57969.0</td>\n",
       "      <td>NaN</td>\n",
       "      <td>NaN</td>\n",
       "      <td>NaN</td>\n",
       "      <td>NaN</td>\n",
       "      <td>NaN</td>\n",
       "      <td>58604.0</td>\n",
       "    </tr>\n",
       "    <tr>\n",
       "      <th>2</th>\n",
       "      <td>18/01/2021</td>\n",
       "      <td>India</td>\n",
       "      <td>99449.0</td>\n",
       "      <td>13611.0</td>\n",
       "      <td>6583.0</td>\n",
       "      <td>99449.0</td>\n",
       "      <td>0.0</td>\n",
       "      <td>41361.0</td>\n",
       "      <td>58083.0</td>\n",
       "      <td>5.0</td>\n",
       "      <td>1299.0</td>\n",
       "      <td>98150.0</td>\n",
       "      <td>NaN</td>\n",
       "      <td>NaN</td>\n",
       "      <td>NaN</td>\n",
       "      <td>NaN</td>\n",
       "      <td>NaN</td>\n",
       "      <td>99449.0</td>\n",
       "    </tr>\n",
       "    <tr>\n",
       "      <th>3</th>\n",
       "      <td>19/01/2021</td>\n",
       "      <td>India</td>\n",
       "      <td>195525.0</td>\n",
       "      <td>17855.0</td>\n",
       "      <td>7951.0</td>\n",
       "      <td>195525.0</td>\n",
       "      <td>0.0</td>\n",
       "      <td>81901.0</td>\n",
       "      <td>113613.0</td>\n",
       "      <td>11.0</td>\n",
       "      <td>3017.0</td>\n",
       "      <td>192508.0</td>\n",
       "      <td>NaN</td>\n",
       "      <td>NaN</td>\n",
       "      <td>NaN</td>\n",
       "      <td>NaN</td>\n",
       "      <td>NaN</td>\n",
       "      <td>195525.0</td>\n",
       "    </tr>\n",
       "    <tr>\n",
       "      <th>4</th>\n",
       "      <td>20/01/2021</td>\n",
       "      <td>India</td>\n",
       "      <td>251280.0</td>\n",
       "      <td>25472.0</td>\n",
       "      <td>10504.0</td>\n",
       "      <td>251280.0</td>\n",
       "      <td>0.0</td>\n",
       "      <td>98111.0</td>\n",
       "      <td>153145.0</td>\n",
       "      <td>24.0</td>\n",
       "      <td>3946.0</td>\n",
       "      <td>247334.0</td>\n",
       "      <td>NaN</td>\n",
       "      <td>NaN</td>\n",
       "      <td>NaN</td>\n",
       "      <td>NaN</td>\n",
       "      <td>NaN</td>\n",
       "      <td>251280.0</td>\n",
       "    </tr>\n",
       "  </tbody>\n",
       "</table>\n",
       "</div>"
      ],
      "text/plain": [
       "   Updated On  State  Total Doses Administered  Total Sessions Conducted  \\\n",
       "0  16/01/2021  India                   48276.0                    3455.0   \n",
       "1  17/01/2021  India                   58604.0                    8532.0   \n",
       "2  18/01/2021  India                   99449.0                   13611.0   \n",
       "3  19/01/2021  India                  195525.0                   17855.0   \n",
       "4  20/01/2021  India                  251280.0                   25472.0   \n",
       "\n",
       "   Total Sites   First Dose Administered  Second Dose Administered  \\\n",
       "0        2957.0                  48276.0                       0.0   \n",
       "1        4954.0                  58604.0                       0.0   \n",
       "2        6583.0                  99449.0                       0.0   \n",
       "3        7951.0                 195525.0                       0.0   \n",
       "4       10504.0                 251280.0                       0.0   \n",
       "\n",
       "   Male(Individuals Vaccinated)  Female(Individuals Vaccinated)  \\\n",
       "0                       23757.0                         24517.0   \n",
       "1                       27348.0                         31252.0   \n",
       "2                       41361.0                         58083.0   \n",
       "3                       81901.0                        113613.0   \n",
       "4                       98111.0                        153145.0   \n",
       "\n",
       "   Transgender(Individuals Vaccinated)  Total Covaxin Administered  \\\n",
       "0                                  2.0                       579.0   \n",
       "1                                  4.0                       635.0   \n",
       "2                                  5.0                      1299.0   \n",
       "3                                 11.0                      3017.0   \n",
       "4                                 24.0                      3946.0   \n",
       "\n",
       "   Total CoviShield Administered  Total Sputnik V Administered  AEFI  \\\n",
       "0                        47697.0                           NaN   NaN   \n",
       "1                        57969.0                           NaN   NaN   \n",
       "2                        98150.0                           NaN   NaN   \n",
       "3                       192508.0                           NaN   NaN   \n",
       "4                       247334.0                           NaN   NaN   \n",
       "\n",
       "   18-45 years (Age)  45-60 years (Age)  60+ years (Age)  \\\n",
       "0                NaN                NaN              NaN   \n",
       "1                NaN                NaN              NaN   \n",
       "2                NaN                NaN              NaN   \n",
       "3                NaN                NaN              NaN   \n",
       "4                NaN                NaN              NaN   \n",
       "\n",
       "   Total Individuals Vaccinated  \n",
       "0                       48276.0  \n",
       "1                       58604.0  \n",
       "2                       99449.0  \n",
       "3                      195525.0  \n",
       "4                      251280.0  "
      ]
     },
     "execution_count": 4,
     "metadata": {},
     "output_type": "execute_result"
    }
   ],
   "source": [
    "df.head()"
   ]
  },
  {
   "cell_type": "code",
   "execution_count": 5,
   "id": "c8604f8f",
   "metadata": {
    "scrolled": true
   },
   "outputs": [
    {
     "data": {
      "text/plain": [
       "Updated On                             6699\n",
       "State                                  6699\n",
       "Total Doses Administered               6364\n",
       "Total Sessions Conducted               6363\n",
       "Total Sites                            6363\n",
       "First Dose Administered                6363\n",
       "Second Dose Administered               6363\n",
       "Male(Individuals Vaccinated)           6363\n",
       "Female(Individuals Vaccinated)         6363\n",
       "Transgender(Individuals Vaccinated)    6363\n",
       "Total Covaxin Administered             6363\n",
       "Total CoviShield Administered          6363\n",
       "Total Sputnik V Administered           1737\n",
       "AEFI                                   4180\n",
       "18-45 years (Age)                      4177\n",
       "45-60 years (Age)                      4178\n",
       "60+ years (Age)                        4178\n",
       "Total Individuals Vaccinated           6363\n",
       "dtype: int64"
      ]
     },
     "execution_count": 5,
     "metadata": {},
     "output_type": "execute_result"
    }
   ],
   "source": [
    "df.count()"
   ]
  },
  {
   "cell_type": "code",
   "execution_count": 6,
   "id": "8690343f",
   "metadata": {},
   "outputs": [],
   "source": [
    "df.dropna(thresh=4, inplace=True)"
   ]
  },
  {
   "cell_type": "code",
   "execution_count": 7,
   "id": "7aa33a2d",
   "metadata": {},
   "outputs": [
    {
     "data": {
      "text/html": [
       "<div>\n",
       "<style scoped>\n",
       "    .dataframe tbody tr th:only-of-type {\n",
       "        vertical-align: middle;\n",
       "    }\n",
       "\n",
       "    .dataframe tbody tr th {\n",
       "        vertical-align: top;\n",
       "    }\n",
       "\n",
       "    .dataframe thead th {\n",
       "        text-align: right;\n",
       "    }\n",
       "</style>\n",
       "<table border=\"1\" class=\"dataframe\">\n",
       "  <thead>\n",
       "    <tr style=\"text-align: right;\">\n",
       "      <th></th>\n",
       "      <th>Updated On</th>\n",
       "      <th>State</th>\n",
       "      <th>Total Doses Administered</th>\n",
       "      <th>Total Sessions Conducted</th>\n",
       "      <th>Total Sites</th>\n",
       "      <th>First Dose Administered</th>\n",
       "      <th>Second Dose Administered</th>\n",
       "      <th>Male(Individuals Vaccinated)</th>\n",
       "      <th>Female(Individuals Vaccinated)</th>\n",
       "      <th>Transgender(Individuals Vaccinated)</th>\n",
       "      <th>Total Covaxin Administered</th>\n",
       "      <th>Total CoviShield Administered</th>\n",
       "      <th>Total Sputnik V Administered</th>\n",
       "    </tr>\n",
       "  </thead>\n",
       "  <tbody>\n",
       "    <tr>\n",
       "      <th>0</th>\n",
       "      <td>16/01/2021</td>\n",
       "      <td>India</td>\n",
       "      <td>48276.0</td>\n",
       "      <td>3455.0</td>\n",
       "      <td>2957.0</td>\n",
       "      <td>48276.0</td>\n",
       "      <td>0.0</td>\n",
       "      <td>23757.0</td>\n",
       "      <td>24517.0</td>\n",
       "      <td>2.0</td>\n",
       "      <td>579.0</td>\n",
       "      <td>47697.0</td>\n",
       "      <td>NaN</td>\n",
       "    </tr>\n",
       "    <tr>\n",
       "      <th>1</th>\n",
       "      <td>17/01/2021</td>\n",
       "      <td>India</td>\n",
       "      <td>58604.0</td>\n",
       "      <td>8532.0</td>\n",
       "      <td>4954.0</td>\n",
       "      <td>58604.0</td>\n",
       "      <td>0.0</td>\n",
       "      <td>27348.0</td>\n",
       "      <td>31252.0</td>\n",
       "      <td>4.0</td>\n",
       "      <td>635.0</td>\n",
       "      <td>57969.0</td>\n",
       "      <td>NaN</td>\n",
       "    </tr>\n",
       "    <tr>\n",
       "      <th>2</th>\n",
       "      <td>18/01/2021</td>\n",
       "      <td>India</td>\n",
       "      <td>99449.0</td>\n",
       "      <td>13611.0</td>\n",
       "      <td>6583.0</td>\n",
       "      <td>99449.0</td>\n",
       "      <td>0.0</td>\n",
       "      <td>41361.0</td>\n",
       "      <td>58083.0</td>\n",
       "      <td>5.0</td>\n",
       "      <td>1299.0</td>\n",
       "      <td>98150.0</td>\n",
       "      <td>NaN</td>\n",
       "    </tr>\n",
       "    <tr>\n",
       "      <th>3</th>\n",
       "      <td>19/01/2021</td>\n",
       "      <td>India</td>\n",
       "      <td>195525.0</td>\n",
       "      <td>17855.0</td>\n",
       "      <td>7951.0</td>\n",
       "      <td>195525.0</td>\n",
       "      <td>0.0</td>\n",
       "      <td>81901.0</td>\n",
       "      <td>113613.0</td>\n",
       "      <td>11.0</td>\n",
       "      <td>3017.0</td>\n",
       "      <td>192508.0</td>\n",
       "      <td>NaN</td>\n",
       "    </tr>\n",
       "    <tr>\n",
       "      <th>4</th>\n",
       "      <td>20/01/2021</td>\n",
       "      <td>India</td>\n",
       "      <td>251280.0</td>\n",
       "      <td>25472.0</td>\n",
       "      <td>10504.0</td>\n",
       "      <td>251280.0</td>\n",
       "      <td>0.0</td>\n",
       "      <td>98111.0</td>\n",
       "      <td>153145.0</td>\n",
       "      <td>24.0</td>\n",
       "      <td>3946.0</td>\n",
       "      <td>247334.0</td>\n",
       "      <td>NaN</td>\n",
       "    </tr>\n",
       "  </tbody>\n",
       "</table>\n",
       "</div>"
      ],
      "text/plain": [
       "   Updated On  State  Total Doses Administered  Total Sessions Conducted  \\\n",
       "0  16/01/2021  India                   48276.0                    3455.0   \n",
       "1  17/01/2021  India                   58604.0                    8532.0   \n",
       "2  18/01/2021  India                   99449.0                   13611.0   \n",
       "3  19/01/2021  India                  195525.0                   17855.0   \n",
       "4  20/01/2021  India                  251280.0                   25472.0   \n",
       "\n",
       "   Total Sites   First Dose Administered  Second Dose Administered  \\\n",
       "0        2957.0                  48276.0                       0.0   \n",
       "1        4954.0                  58604.0                       0.0   \n",
       "2        6583.0                  99449.0                       0.0   \n",
       "3        7951.0                 195525.0                       0.0   \n",
       "4       10504.0                 251280.0                       0.0   \n",
       "\n",
       "   Male(Individuals Vaccinated)  Female(Individuals Vaccinated)  \\\n",
       "0                       23757.0                         24517.0   \n",
       "1                       27348.0                         31252.0   \n",
       "2                       41361.0                         58083.0   \n",
       "3                       81901.0                        113613.0   \n",
       "4                       98111.0                        153145.0   \n",
       "\n",
       "   Transgender(Individuals Vaccinated)  Total Covaxin Administered  \\\n",
       "0                                  2.0                       579.0   \n",
       "1                                  4.0                       635.0   \n",
       "2                                  5.0                      1299.0   \n",
       "3                                 11.0                      3017.0   \n",
       "4                                 24.0                      3946.0   \n",
       "\n",
       "   Total CoviShield Administered  Total Sputnik V Administered  \n",
       "0                        47697.0                           NaN  \n",
       "1                        57969.0                           NaN  \n",
       "2                        98150.0                           NaN  \n",
       "3                       192508.0                           NaN  \n",
       "4                       247334.0                           NaN  "
      ]
     },
     "execution_count": 7,
     "metadata": {},
     "output_type": "execute_result"
    }
   ],
   "source": [
    "df.drop(columns=[\"18-45 years (Age)\", \"45-60 years (Age)\", \"60+ years (Age)\", \"Total Individuals Vaccinated\", \"AEFI\"], inplace=True)\n",
    "df.head()"
   ]
  },
  {
   "cell_type": "code",
   "execution_count": 8,
   "id": "1411e0c7",
   "metadata": {},
   "outputs": [],
   "source": [
    "df_india=df[df['State']=='India']\n",
    "df_states=df[df['State']!='India']"
   ]
  },
  {
   "cell_type": "code",
   "execution_count": 9,
   "id": "92171521",
   "metadata": {},
   "outputs": [
    {
     "data": {
      "text/plain": [
       "Updated On                             172\n",
       "State                                  172\n",
       "Total Doses Administered               172\n",
       "Total Sessions Conducted               172\n",
       "Total Sites                            172\n",
       "First Dose Administered                172\n",
       "Second Dose Administered               172\n",
       "Male(Individuals Vaccinated)           172\n",
       "Female(Individuals Vaccinated)         172\n",
       "Transgender(Individuals Vaccinated)    172\n",
       "Total Covaxin Administered             172\n",
       "Total CoviShield Administered          172\n",
       "Total Sputnik V Administered            47\n",
       "dtype: int64"
      ]
     },
     "execution_count": 9,
     "metadata": {},
     "output_type": "execute_result"
    }
   ],
   "source": [
    "df_india.count()"
   ]
  },
  {
   "cell_type": "code",
   "execution_count": 10,
   "id": "cb4a6650",
   "metadata": {},
   "outputs": [
    {
     "data": {
      "text/plain": [
       "Updated On                             6191\n",
       "State                                  6191\n",
       "Total Doses Administered               6191\n",
       "Total Sessions Conducted               6191\n",
       "Total Sites                            6191\n",
       "First Dose Administered                6191\n",
       "Second Dose Administered               6191\n",
       "Male(Individuals Vaccinated)           6191\n",
       "Female(Individuals Vaccinated)         6191\n",
       "Transgender(Individuals Vaccinated)    6191\n",
       "Total Covaxin Administered             6191\n",
       "Total CoviShield Administered          6191\n",
       "Total Sputnik V Administered           1690\n",
       "dtype: int64"
      ]
     },
     "execution_count": 10,
     "metadata": {},
     "output_type": "execute_result"
    }
   ],
   "source": [
    "df_states.count()"
   ]
  },
  {
   "cell_type": "code",
   "execution_count": 11,
   "id": "ca3d114f",
   "metadata": {},
   "outputs": [],
   "source": [
    "df_india=df_india.fillna(0.0)\n",
    "df_states=df_states.fillna(0.0)"
   ]
  },
  {
   "cell_type": "code",
   "execution_count": 12,
   "id": "4589eed4",
   "metadata": {},
   "outputs": [
    {
     "data": {
      "text/plain": [
       "Updated On                             0\n",
       "State                                  0\n",
       "Total Doses Administered               0\n",
       "Total Sessions Conducted               0\n",
       "Total Sites                            0\n",
       "First Dose Administered                0\n",
       "Second Dose Administered               0\n",
       "Male(Individuals Vaccinated)           0\n",
       "Female(Individuals Vaccinated)         0\n",
       "Transgender(Individuals Vaccinated)    0\n",
       "Total Covaxin Administered             0\n",
       "Total CoviShield Administered          0\n",
       "Total Sputnik V Administered           0\n",
       "dtype: int64"
      ]
     },
     "execution_count": 12,
     "metadata": {},
     "output_type": "execute_result"
    }
   ],
   "source": [
    "df_india.isnull().sum()"
   ]
  },
  {
   "cell_type": "code",
   "execution_count": 13,
   "id": "d2632220",
   "metadata": {},
   "outputs": [
    {
     "data": {
      "text/plain": [
       "Updated On                              object\n",
       "State                                   object\n",
       "Total Doses Administered               float64\n",
       "Total Sessions Conducted               float64\n",
       "Total Sites                            float64\n",
       "First Dose Administered                float64\n",
       "Second Dose Administered               float64\n",
       "Male(Individuals Vaccinated)           float64\n",
       "Female(Individuals Vaccinated)         float64\n",
       "Transgender(Individuals Vaccinated)    float64\n",
       "Total Covaxin Administered             float64\n",
       "Total CoviShield Administered          float64\n",
       "Total Sputnik V Administered           float64\n",
       "dtype: object"
      ]
     },
     "execution_count": 13,
     "metadata": {},
     "output_type": "execute_result"
    }
   ],
   "source": [
    "df_india.dtypes"
   ]
  },
  {
   "cell_type": "code",
   "execution_count": 14,
   "id": "4cc005f4",
   "metadata": {},
   "outputs": [
    {
     "data": {
      "text/html": [
       "<div>\n",
       "<style scoped>\n",
       "    .dataframe tbody tr th:only-of-type {\n",
       "        vertical-align: middle;\n",
       "    }\n",
       "\n",
       "    .dataframe tbody tr th {\n",
       "        vertical-align: top;\n",
       "    }\n",
       "\n",
       "    .dataframe thead th {\n",
       "        text-align: right;\n",
       "    }\n",
       "</style>\n",
       "<table border=\"1\" class=\"dataframe\">\n",
       "  <thead>\n",
       "    <tr style=\"text-align: right;\">\n",
       "      <th></th>\n",
       "      <th>Updated On</th>\n",
       "      <th>State</th>\n",
       "      <th>Total Doses Administered</th>\n",
       "      <th>Total Sessions Conducted</th>\n",
       "      <th>Total Sites</th>\n",
       "      <th>First Dose Administered</th>\n",
       "      <th>Second Dose Administered</th>\n",
       "      <th>Male(Individuals Vaccinated)</th>\n",
       "      <th>Female(Individuals Vaccinated)</th>\n",
       "      <th>Transgender(Individuals Vaccinated)</th>\n",
       "      <th>Total Covaxin Administered</th>\n",
       "      <th>Total CoviShield Administered</th>\n",
       "      <th>Total Sputnik V Administered</th>\n",
       "      <th>Day</th>\n",
       "      <th>Month</th>\n",
       "      <th>Year</th>\n",
       "    </tr>\n",
       "  </thead>\n",
       "  <tbody>\n",
       "    <tr>\n",
       "      <th>0</th>\n",
       "      <td>2021-01-16</td>\n",
       "      <td>India</td>\n",
       "      <td>48276.0</td>\n",
       "      <td>3455.0</td>\n",
       "      <td>2957.0</td>\n",
       "      <td>48276.0</td>\n",
       "      <td>0.0</td>\n",
       "      <td>23757.0</td>\n",
       "      <td>24517.0</td>\n",
       "      <td>2.0</td>\n",
       "      <td>579.0</td>\n",
       "      <td>47697.0</td>\n",
       "      <td>0.0</td>\n",
       "      <td>16</td>\n",
       "      <td>1</td>\n",
       "      <td>2021</td>\n",
       "    </tr>\n",
       "    <tr>\n",
       "      <th>1</th>\n",
       "      <td>2021-01-17</td>\n",
       "      <td>India</td>\n",
       "      <td>58604.0</td>\n",
       "      <td>8532.0</td>\n",
       "      <td>4954.0</td>\n",
       "      <td>58604.0</td>\n",
       "      <td>0.0</td>\n",
       "      <td>27348.0</td>\n",
       "      <td>31252.0</td>\n",
       "      <td>4.0</td>\n",
       "      <td>635.0</td>\n",
       "      <td>57969.0</td>\n",
       "      <td>0.0</td>\n",
       "      <td>17</td>\n",
       "      <td>1</td>\n",
       "      <td>2021</td>\n",
       "    </tr>\n",
       "    <tr>\n",
       "      <th>2</th>\n",
       "      <td>2021-01-18</td>\n",
       "      <td>India</td>\n",
       "      <td>99449.0</td>\n",
       "      <td>13611.0</td>\n",
       "      <td>6583.0</td>\n",
       "      <td>99449.0</td>\n",
       "      <td>0.0</td>\n",
       "      <td>41361.0</td>\n",
       "      <td>58083.0</td>\n",
       "      <td>5.0</td>\n",
       "      <td>1299.0</td>\n",
       "      <td>98150.0</td>\n",
       "      <td>0.0</td>\n",
       "      <td>18</td>\n",
       "      <td>1</td>\n",
       "      <td>2021</td>\n",
       "    </tr>\n",
       "    <tr>\n",
       "      <th>3</th>\n",
       "      <td>2021-01-19</td>\n",
       "      <td>India</td>\n",
       "      <td>195525.0</td>\n",
       "      <td>17855.0</td>\n",
       "      <td>7951.0</td>\n",
       "      <td>195525.0</td>\n",
       "      <td>0.0</td>\n",
       "      <td>81901.0</td>\n",
       "      <td>113613.0</td>\n",
       "      <td>11.0</td>\n",
       "      <td>3017.0</td>\n",
       "      <td>192508.0</td>\n",
       "      <td>0.0</td>\n",
       "      <td>19</td>\n",
       "      <td>1</td>\n",
       "      <td>2021</td>\n",
       "    </tr>\n",
       "    <tr>\n",
       "      <th>4</th>\n",
       "      <td>2021-01-20</td>\n",
       "      <td>India</td>\n",
       "      <td>251280.0</td>\n",
       "      <td>25472.0</td>\n",
       "      <td>10504.0</td>\n",
       "      <td>251280.0</td>\n",
       "      <td>0.0</td>\n",
       "      <td>98111.0</td>\n",
       "      <td>153145.0</td>\n",
       "      <td>24.0</td>\n",
       "      <td>3946.0</td>\n",
       "      <td>247334.0</td>\n",
       "      <td>0.0</td>\n",
       "      <td>20</td>\n",
       "      <td>1</td>\n",
       "      <td>2021</td>\n",
       "    </tr>\n",
       "    <tr>\n",
       "      <th>...</th>\n",
       "      <td>...</td>\n",
       "      <td>...</td>\n",
       "      <td>...</td>\n",
       "      <td>...</td>\n",
       "      <td>...</td>\n",
       "      <td>...</td>\n",
       "      <td>...</td>\n",
       "      <td>...</td>\n",
       "      <td>...</td>\n",
       "      <td>...</td>\n",
       "      <td>...</td>\n",
       "      <td>...</td>\n",
       "      <td>...</td>\n",
       "      <td>...</td>\n",
       "      <td>...</td>\n",
       "      <td>...</td>\n",
       "    </tr>\n",
       "    <tr>\n",
       "      <th>167</th>\n",
       "      <td>2021-07-02</td>\n",
       "      <td>India</td>\n",
       "      <td>339447068.0</td>\n",
       "      <td>20812325.0</td>\n",
       "      <td>40091.0</td>\n",
       "      <td>279132514.0</td>\n",
       "      <td>60314554.0</td>\n",
       "      <td>182375868.0</td>\n",
       "      <td>157013277.0</td>\n",
       "      <td>57923.0</td>\n",
       "      <td>41530884.0</td>\n",
       "      <td>297814896.0</td>\n",
       "      <td>101288.0</td>\n",
       "      <td>2</td>\n",
       "      <td>7</td>\n",
       "      <td>2021</td>\n",
       "    </tr>\n",
       "    <tr>\n",
       "      <th>168</th>\n",
       "      <td>2021-07-03</td>\n",
       "      <td>India</td>\n",
       "      <td>346054022.0</td>\n",
       "      <td>26140934.0</td>\n",
       "      <td>48778.0</td>\n",
       "      <td>283527017.0</td>\n",
       "      <td>62527005.0</td>\n",
       "      <td>185856473.0</td>\n",
       "      <td>160138342.0</td>\n",
       "      <td>59207.0</td>\n",
       "      <td>42506166.0</td>\n",
       "      <td>303438000.0</td>\n",
       "      <td>109856.0</td>\n",
       "      <td>3</td>\n",
       "      <td>7</td>\n",
       "      <td>2021</td>\n",
       "    </tr>\n",
       "    <tr>\n",
       "      <th>169</th>\n",
       "      <td>2021-07-04</td>\n",
       "      <td>India</td>\n",
       "      <td>347766247.0</td>\n",
       "      <td>12321517.0</td>\n",
       "      <td>19122.0</td>\n",
       "      <td>284750483.0</td>\n",
       "      <td>63015764.0</td>\n",
       "      <td>186748495.0</td>\n",
       "      <td>160958198.0</td>\n",
       "      <td>59554.0</td>\n",
       "      <td>42729197.0</td>\n",
       "      <td>304924760.0</td>\n",
       "      <td>112290.0</td>\n",
       "      <td>4</td>\n",
       "      <td>7</td>\n",
       "      <td>2021</td>\n",
       "    </tr>\n",
       "    <tr>\n",
       "      <th>170</th>\n",
       "      <td>2021-07-05</td>\n",
       "      <td>India</td>\n",
       "      <td>352412289.0</td>\n",
       "      <td>20486897.0</td>\n",
       "      <td>42139.0</td>\n",
       "      <td>287588808.0</td>\n",
       "      <td>64823481.0</td>\n",
       "      <td>189175605.0</td>\n",
       "      <td>163176110.0</td>\n",
       "      <td>60574.0</td>\n",
       "      <td>43442864.0</td>\n",
       "      <td>308849054.0</td>\n",
       "      <td>120371.0</td>\n",
       "      <td>5</td>\n",
       "      <td>7</td>\n",
       "      <td>2021</td>\n",
       "    </tr>\n",
       "    <tr>\n",
       "      <th>171</th>\n",
       "      <td>2021-07-06</td>\n",
       "      <td>India</td>\n",
       "      <td>356192949.0</td>\n",
       "      <td>17691841.0</td>\n",
       "      <td>35607.0</td>\n",
       "      <td>290132865.0</td>\n",
       "      <td>66060084.0</td>\n",
       "      <td>191160373.0</td>\n",
       "      <td>164971125.0</td>\n",
       "      <td>61451.0</td>\n",
       "      <td>44018800.0</td>\n",
       "      <td>312045416.0</td>\n",
       "      <td>128733.0</td>\n",
       "      <td>6</td>\n",
       "      <td>7</td>\n",
       "      <td>2021</td>\n",
       "    </tr>\n",
       "  </tbody>\n",
       "</table>\n",
       "<p>172 rows × 16 columns</p>\n",
       "</div>"
      ],
      "text/plain": [
       "    Updated On  State  Total Doses Administered  Total Sessions Conducted  \\\n",
       "0   2021-01-16  India                   48276.0                    3455.0   \n",
       "1   2021-01-17  India                   58604.0                    8532.0   \n",
       "2   2021-01-18  India                   99449.0                   13611.0   \n",
       "3   2021-01-19  India                  195525.0                   17855.0   \n",
       "4   2021-01-20  India                  251280.0                   25472.0   \n",
       "..         ...    ...                       ...                       ...   \n",
       "167 2021-07-02  India               339447068.0                20812325.0   \n",
       "168 2021-07-03  India               346054022.0                26140934.0   \n",
       "169 2021-07-04  India               347766247.0                12321517.0   \n",
       "170 2021-07-05  India               352412289.0                20486897.0   \n",
       "171 2021-07-06  India               356192949.0                17691841.0   \n",
       "\n",
       "     Total Sites   First Dose Administered  Second Dose Administered  \\\n",
       "0          2957.0                  48276.0                       0.0   \n",
       "1          4954.0                  58604.0                       0.0   \n",
       "2          6583.0                  99449.0                       0.0   \n",
       "3          7951.0                 195525.0                       0.0   \n",
       "4         10504.0                 251280.0                       0.0   \n",
       "..            ...                      ...                       ...   \n",
       "167       40091.0              279132514.0                60314554.0   \n",
       "168       48778.0              283527017.0                62527005.0   \n",
       "169       19122.0              284750483.0                63015764.0   \n",
       "170       42139.0              287588808.0                64823481.0   \n",
       "171       35607.0              290132865.0                66060084.0   \n",
       "\n",
       "     Male(Individuals Vaccinated)  Female(Individuals Vaccinated)  \\\n",
       "0                         23757.0                         24517.0   \n",
       "1                         27348.0                         31252.0   \n",
       "2                         41361.0                         58083.0   \n",
       "3                         81901.0                        113613.0   \n",
       "4                         98111.0                        153145.0   \n",
       "..                            ...                             ...   \n",
       "167                   182375868.0                     157013277.0   \n",
       "168                   185856473.0                     160138342.0   \n",
       "169                   186748495.0                     160958198.0   \n",
       "170                   189175605.0                     163176110.0   \n",
       "171                   191160373.0                     164971125.0   \n",
       "\n",
       "     Transgender(Individuals Vaccinated)  Total Covaxin Administered  \\\n",
       "0                                    2.0                       579.0   \n",
       "1                                    4.0                       635.0   \n",
       "2                                    5.0                      1299.0   \n",
       "3                                   11.0                      3017.0   \n",
       "4                                   24.0                      3946.0   \n",
       "..                                   ...                         ...   \n",
       "167                              57923.0                  41530884.0   \n",
       "168                              59207.0                  42506166.0   \n",
       "169                              59554.0                  42729197.0   \n",
       "170                              60574.0                  43442864.0   \n",
       "171                              61451.0                  44018800.0   \n",
       "\n",
       "     Total CoviShield Administered  Total Sputnik V Administered  Day  Month  \\\n",
       "0                          47697.0                           0.0   16      1   \n",
       "1                          57969.0                           0.0   17      1   \n",
       "2                          98150.0                           0.0   18      1   \n",
       "3                         192508.0                           0.0   19      1   \n",
       "4                         247334.0                           0.0   20      1   \n",
       "..                             ...                           ...  ...    ...   \n",
       "167                    297814896.0                      101288.0    2      7   \n",
       "168                    303438000.0                      109856.0    3      7   \n",
       "169                    304924760.0                      112290.0    4      7   \n",
       "170                    308849054.0                      120371.0    5      7   \n",
       "171                    312045416.0                      128733.0    6      7   \n",
       "\n",
       "     Year  \n",
       "0    2021  \n",
       "1    2021  \n",
       "2    2021  \n",
       "3    2021  \n",
       "4    2021  \n",
       "..    ...  \n",
       "167  2021  \n",
       "168  2021  \n",
       "169  2021  \n",
       "170  2021  \n",
       "171  2021  \n",
       "\n",
       "[172 rows x 16 columns]"
      ]
     },
     "execution_count": 14,
     "metadata": {},
     "output_type": "execute_result"
    }
   ],
   "source": [
    "df_india['Updated On']=pd.to_datetime(df_india['Updated On'], dayfirst=True)\n",
    "df_india['Day'] = pd.to_datetime(df['Updated On'], format=\"%d/%m/%Y\").dt.day\n",
    "df_india['Month'] = pd.to_datetime(df['Updated On'], format=\"%d/%m/%Y\").dt.month\n",
    "df_india['Year'] = pd.to_datetime(df['Updated On'], format=\"%d/%m/%Y\").dt.year\n",
    "df_india"
   ]
  },
  {
   "cell_type": "code",
   "execution_count": 15,
   "id": "71cb7c89",
   "metadata": {},
   "outputs": [
    {
     "data": {
      "text/plain": [
       "Updated On                             datetime64[ns]\n",
       "State                                          object\n",
       "Total Doses Administered                      float64\n",
       "Total Sessions Conducted                      float64\n",
       "Total Sites                                   float64\n",
       "First Dose Administered                       float64\n",
       "Second Dose Administered                      float64\n",
       "Male(Individuals Vaccinated)                  float64\n",
       "Female(Individuals Vaccinated)                float64\n",
       "Transgender(Individuals Vaccinated)           float64\n",
       "Total Covaxin Administered                    float64\n",
       "Total CoviShield Administered                 float64\n",
       "Total Sputnik V Administered                  float64\n",
       "Day                                             int64\n",
       "Month                                           int64\n",
       "Year                                            int64\n",
       "dtype: object"
      ]
     },
     "execution_count": 15,
     "metadata": {},
     "output_type": "execute_result"
    }
   ],
   "source": [
    "df_india.dtypes"
   ]
  },
  {
   "cell_type": "markdown",
   "id": "6fcdc2fe",
   "metadata": {},
   "source": [
    "##### Preprocessing completed "
   ]
  },
  {
   "cell_type": "markdown",
   "id": "655f68c2",
   "metadata": {},
   "source": [
    "##### Visualisation start"
   ]
  },
  {
   "cell_type": "code",
   "execution_count": 16,
   "id": "39ef0f55",
   "metadata": {},
   "outputs": [
    {
     "data": {
      "image/png": "[encoded data removed]",
      "text/plain": [
       "<Figure size 1440x360 with 1 Axes>"
      ]
     },
     "metadata": {
      "needs_background": "light"
     },
     "output_type": "display_data"
    }
   ],
   "source": [
    "df_fdose=df_india['First Dose Administered']\n",
    "df_sdose=df_india['Second Dose Administered']\n",
    "df_tdose=df_india['Total Doses Administered']\n",
    "df_time=df_india['Updated On']\n",
    "plt.figure(figsize=(20,5))\n",
    "plt.style.use(\"seaborn\")\n",
    "plt.xlabel('Time', fontsize=15)\n",
    "plt.ylabel('People vaccinated (cummulative)', fontsize=15)\n",
    "plt.title('Successful vaccinations Vs Time', fontsize=20)\n",
    "plt.plot(df_time, df_fdose, color='blue', label='1st dose')\n",
    "plt.plot(df_time, df_sdose, color='red', label='2nd dose')\n",
    "plt.plot(df_time, df_tdose, color='green', label='Total administered doses')\n",
    "plt.legend(prop={'size': 13})\n",
    "plt.show()"
   ]
  },
  {
   "cell_type": "code",
   "execution_count": 17,
   "id": "e36b33f6",
   "metadata": {},
   "outputs": [
    {
     "data": {
      "text/plain": [
       "<matplotlib.legend.Legend at 0x19ad3236eb0>"
      ]
     },
     "execution_count": 17,
     "metadata": {},
     "output_type": "execute_result"
    },
    {
     "data": {
      "image/png": "[encoded data removed]",
      "text/plain": [
       "<Figure size 720x720 with 1 Axes>"
      ]
     },
     "metadata": {},
     "output_type": "display_data"
    }
   ],
   "source": [
    "df_vaccinations=[df_india['Total Covaxin Administered'].iloc[-1], df_india['Total CoviShield Administered'].iloc[-1], df_india['Total Sputnik V Administered'].iloc[-1]]\n",
    "pie_labels=['Covaxin', 'Covishield', 'Sputnik V']\n",
    "plt.figure(figsize=(10,10))\n",
    "plt.pie(df_vaccinations, labels=pie_labels, radius=1, autopct='%0.2f%%', colors=['yellow', 'cyan', 'red'], explode=[0.5,0,0.5], shadow=True)\n",
    "plt.axis=('equal')\n",
    "plt.title('Distribution of vaccines', fontsize=15)\n",
    "plt.legend(loc='upper right')"
   ]
  },
  {
   "cell_type": "markdown",
   "id": "67e6bfb3",
   "metadata": {},
   "source": [
    "##### Visualization completed "
   ]
  },
  {
   "cell_type": "markdown",
   "id": "882c47c4",
   "metadata": {},
   "source": [
    "##### Regression start"
   ]
  },
  {
   "cell_type": "code",
   "execution_count": 18,
   "id": "ec67ff96",
   "metadata": {},
   "outputs": [],
   "source": [
    "from sklearn.linear_model import LinearRegression, Lasso\n",
    "from sklearn.model_selection import train_test_split, KFold\n",
    "from sklearn.preprocessing import PolynomialFeatures"
   ]
  },
  {
   "cell_type": "markdown",
   "id": "67892603",
   "metadata": {},
   "source": [
    "Defining a function to calculate the number of days of vaccinations from the start of the vaccination campaign"
   ]
  },
  {
   "cell_type": "code",
   "execution_count": 41,
   "id": "0cfb15de",
   "metadata": {},
   "outputs": [],
   "source": [
    "def cal_no_of_days(Day, Month, Year):\n",
    "    return (Day-15) + (Month-1)*30 + (Year-1)*365 - (2020*365)"
   ]
  },
  {
   "cell_type": "code",
   "execution_count": 46,
   "id": "4462dc45",
   "metadata": {},
   "outputs": [
    {
     "name": "stdout",
     "output_type": "stream",
     "text": [
      "         Dates  number of days\n",
      "0   2021-01-16               1\n",
      "1   2021-01-17               2\n",
      "2   2021-01-18               3\n",
      "3   2021-01-19               4\n",
      "4   2021-01-20               5\n",
      "..         ...             ...\n",
      "167 2021-07-02             167\n",
      "168 2021-07-03             168\n",
      "169 2021-07-04             169\n",
      "170 2021-07-05             170\n",
      "171 2021-07-06             171\n",
      "\n",
      "[172 rows x 2 columns]\n"
     ]
    }
   ],
   "source": [
    "days=[]\n",
    "for i in range(len(df_india)):\n",
    "    day=cal_no_of_days(df_india['Day'][i], df_india['Month'][i], df_india['Year'][i])\n",
    "    days.append(day)\n",
    "df_days=pd.DataFrame(days)\n",
    "print(pd.DataFrame({'Dates':df_india['Updated On'], 'number of days':days}))"
   ]
  },
  {
   "cell_type": "code",
   "execution_count": 74,
   "id": "dc2a1fe2",
   "metadata": {},
   "outputs": [
    {
     "name": "stdout",
     "output_type": "stream",
     "text": [
      "score of model:  0.9809182848950158\n"
     ]
    }
   ],
   "source": [
    "x=df_days\n",
    "y=df_india['Second Dose Administered']\n",
    "x_train, x_test, y_train, y_test=train_test_split(x, y, test_size=0.1)\n",
    "poly_reg=PolynomialFeatures(degree=2)\n",
    "x_train=poly_reg.fit_transform(x_train)\n",
    "x=poly_reg.fit_transform(x)\n",
    "reg=LinearRegression()\n",
    "reg.fit(x_train, y_train)\n",
    "reg.fit(x, y)\n",
    "score=reg.score(poly_reg.fit_transform(x_test), y_test)\n",
    "print('score of model: ', score)"
   ]
  },
  {
   "cell_type": "code",
   "execution_count": 75,
   "id": "8fe3b0fa",
   "metadata": {},
   "outputs": [
    {
     "data": {
      "text/plain": [
       "<matplotlib.legend.Legend at 0x19ad6b632e0>"
      ]
     },
     "execution_count": 75,
     "metadata": {},
     "output_type": "execute_result"
    },
    {
     "data": {
      "image/png": "[encoded data removed]",
      "text/plain": [
       "<Figure size 1440x360 with 1 Axes>"
      ]
     },
     "metadata": {},
     "output_type": "display_data"
    }
   ],
   "source": [
    "plt.figure(figsize=(20,5))\n",
    "plt.title('Actual vaccinations vs predicted vaccinations', fontsize=18)\n",
    "plt.xlabel('Time', fontsize=14)\n",
    "plt.ylabel('People vaccinated (cummulative)', fontsize=14)\n",
    "plt.plot(df_time, reg.predict(x), label='predicted vaccinations', color='blue')\n",
    "plt.plot(df_time, df_sdose, label='actual vaccinations', color='red')\n",
    "plt.legend()"
   ]
  },
  {
   "cell_type": "code",
   "execution_count": 76,
   "id": "d9d75aae",
   "metadata": {},
   "outputs": [
    {
     "data": {
      "text/plain": [
       "819840000"
      ]
     },
     "execution_count": 76,
     "metadata": {},
     "output_type": "execute_result"
    }
   ],
   "source": [
    "india_pop=1366400000\n",
    "india_pop_above18=int(round(india_pop*60/100))\n",
    "india_pop_above18"
   ]
  },
  {
   "cell_type": "code",
   "execution_count": 90,
   "id": "3455867c",
   "metadata": {},
   "outputs": [
    {
     "name": "stdout",
     "output_type": "stream",
     "text": [
      "Day number:  630\n"
     ]
    }
   ],
   "source": [
    "input_date=[10,10,2022]\n",
    "day_number=cal_no_of_days(input_date[0], input_date[1], input_date[2])\n",
    "if day_number < 0:\n",
    "    day_number = 0\n",
    "print('Day number: ', day_number)\n",
    "df_day_number=[[day_number]]"
   ]
  },
  {
   "cell_type": "code",
   "execution_count": 91,
   "id": "57d52e63",
   "metadata": {},
   "outputs": [
    {
     "name": "stdout",
     "output_type": "stream",
     "text": [
      "Number of people completely vaccinated: 819840000 i.e., all the people above the age of 18 have been vaccinated\n"
     ]
    }
   ],
   "source": [
    "pop_fully_vaccinated = int(round(reg.predict(poly_reg.fit_transform(df_day_number))[0]))\n",
    "if pop_fully_vaccinated < 0:\n",
    "    print('Number of people completely vaccinated: ', 0)\n",
    "elif pop_fully_vaccinated > india_pop_above18:\n",
    "    print('Number of people completely vaccinated: {} i.e., all the people above the age of 18 have been vaccinated'.format(india_pop_above18))\n",
    "else:\n",
    "    print('Number of people completely vaccinated by the given date (in million): ', pop_fully_vaccinated/1000000)"
   ]
  }
 ],
 "metadata": {
  "kernelspec": {
   "display_name": "Python 3",
   "language": "python",
   "name": "python3"
  },
  "language_info": {
   "codemirror_mode": {
    "name": "ipython",
    "version": 3
   },
   "file_extension": ".py",
   "mimetype": "text/x-python",
   "name": "python",
   "nbconvert_exporter": "python",
   "pygments_lexer": "ipython3",
   "version": "3.8.5"
  }
 },
 "nbformat": 4,
 "nbformat_minor": 5
}
